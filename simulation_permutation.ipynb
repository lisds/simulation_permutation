{
 "cells": [
  {
   "cell_type": "markdown",
   "id": "751fea60",
   "metadata": {},
   "source": [
    "# Simulation and permutation"
   ]
  },
  {
   "cell_type": "markdown",
   "id": "6e3afd5a",
   "metadata": {},
   "source": [
    "## To start"
   ]
  },
  {
   "cell_type": "code",
   "execution_count": null,
   "id": "a3aefd60",
   "metadata": {},
   "outputs": [],
   "source": [
    "# Don't change this cell; just run it.\n",
    "\n",
    "# Load the standard array library.\n",
    "import numpy as np\n",
    "\n",
    "# A Numpy random number generator.\n",
    "rng = np.random.default_rng()\n",
    "\n",
    "# Pandas library for loading data.\n",
    "import pandas as pd\n",
    "# Safe setting for Pandas.  Needs Pandas version >= 1.5.\n",
    "pd.set_option('mode.copy_on_write', True)\n",
    "\n",
    "# Set up plotting\n",
    "import matplotlib.pyplot as plt\n",
    "plt.style.use('fivethirtyeight')\n",
    "\n",
    "# The OKpy testing system.\n",
    "from client.api.notebook import Notebook\n",
    "ok = Notebook('simulation_permutation.ok')"
   ]
  },
  {
   "cell_type": "markdown",
   "id": "f8de1826",
   "metadata": {},
   "source": [
    "The tests in this notebook do not test if you have the right answer, but only\n",
    "if you have the *right sort* of answer.  *Be careful* -- the tests could pass, but your answer could still be wrong."
   ]
  },
  {
   "cell_type": "markdown",
   "id": "58e7ef40",
   "metadata": {},
   "source": [
    "## Christenings in London\n",
    "\n",
    "In our simulations of the three girls problem, we assumed that the chance of\n",
    "having a girl is the same as the chance of having a boy.\n",
    "\n",
    "In fact this is not quite true - on any one birth, the child is very slightly\n",
    "more likely to be male than female.\n",
    "\n",
    "This odd fact was the inspiration for the very first statistical hypothesis\n",
    "test, by Dr John Arbuthnot, in 1710.  He was interested in the number of male\n",
    "and female children born in London.  As a way of getting at this, he collected\n",
    "records of number of christenings of male and female children between 1629 and\n",
    "1710 - see [Arbuthnot's christening\n",
    "data](https://github.com/matthew-brett/datasets/tree/master/arbuthnot).\n",
    "\n",
    "Here are the number of christenings of male children for each year\n",
    "from 1629 through 1710.  Don't worry about the code below, we just use it to get the data."
   ]
  },
  {
   "cell_type": "code",
   "execution_count": null,
   "id": "22a23c6c",
   "metadata": {},
   "outputs": [],
   "source": [
    "# Run this cell; do not change it.\n",
    "# Load the data.\n",
    "christenings = pd.read_csv('arbuthnot.csv')\n",
    "# Show the first 5 rows.\n",
    "christenings.head()"
   ]
  },
  {
   "cell_type": "markdown",
   "id": "daef67aa",
   "metadata": {},
   "source": [
    "Next we turn the \"Males\" and \"Females\" christening counts into arrays:"
   ]
  },
  {
   "cell_type": "code",
   "execution_count": null,
   "id": "7c54edcd",
   "metadata": {},
   "outputs": [],
   "source": [
    "# Run this cell; do not change it.\n",
    "male_christenings = np.array(christenings['Males'])\n",
    "female_christenings = np.array(christenings['Females'])"
   ]
  },
  {
   "cell_type": "markdown",
   "id": "09cf8a0d",
   "metadata": {},
   "source": [
    "There are 82 values, one for each year from 1629 through 1710:"
   ]
  },
  {
   "cell_type": "code",
   "execution_count": null,
   "id": "720b097e",
   "metadata": {},
   "outputs": [],
   "source": [
    "# Run this cell.\n",
    "# It shows the number of values in each array (number of years)\n",
    "len(male_christenings)"
   ]
  },
  {
   "cell_type": "markdown",
   "id": "c6e5de02",
   "metadata": {},
   "source": [
    "Arbuthnot was interested in whether there were more males than females born in\n",
    "each year.  To do this calculation, we first need to subtract the number of\n",
    "females from the number of males, to get 82 difference values.  For example,\n",
    "this is the first difference value we want:"
   ]
  },
  {
   "cell_type": "code",
   "execution_count": null,
   "id": "caa1cf61",
   "metadata": {},
   "outputs": [],
   "source": [
    "# Run this cell.\n",
    "# The first difference value\n",
    "male_christenings[0] - female_christenings[0]"
   ]
  },
  {
   "cell_type": "markdown",
   "id": "c14a5cf3",
   "metadata": {},
   "source": [
    "The second difference value:"
   ]
  },
  {
   "cell_type": "code",
   "execution_count": null,
   "id": "d86f780a",
   "metadata": {},
   "outputs": [],
   "source": [
    "# Run this cell.\n",
    "# The second difference value\n",
    "male_christenings[1] - female_christenings[1]"
   ]
  },
  {
   "cell_type": "markdown",
   "id": "d0bea44e",
   "metadata": {},
   "source": [
    "Now make a new *array* called `differences` that has the difference values\n",
    "corresponding to the `male_christenings` and `female_christenings` values in\n",
    "each position (first, second ...).  The first element in the array will be\n",
    "535, the second will be 401, and so on:"
   ]
  },
  {
   "cell_type": "code",
   "execution_count": null,
   "id": "c598fa94",
   "metadata": {},
   "outputs": [],
   "source": [
    "differences = ...\n",
    "\n",
    "# Show the differences values\n",
    "differences"
   ]
  },
  {
   "cell_type": "code",
   "execution_count": null,
   "id": "37715c17",
   "metadata": {},
   "outputs": [],
   "source": [
    "_ = ok.grade('q_differences')"
   ]
  },
  {
   "cell_type": "markdown",
   "id": "f4b8018e",
   "metadata": {},
   "source": [
    "Back to Arbuthnot's problem - we now ask - for what proportion of these 82\n",
    "years were there more male than female births?  Use `np.count_nonzero` and\n",
    "comparison to show the *proportion* of the `differences` values that are\n",
    "greater than 0."
   ]
  },
  {
   "cell_type": "code",
   "execution_count": null,
   "id": "42eefed6",
   "metadata": {},
   "outputs": [],
   "source": [
    "p_gt_0 = ...\n",
    "\n",
    "# Show the proportion.\n",
    "p_gt_0"
   ]
  },
  {
   "cell_type": "markdown",
   "id": "3c99196d",
   "metadata": {},
   "source": [
    "Test your answer:"
   ]
  },
  {
   "cell_type": "code",
   "execution_count": null,
   "id": "9b39ab83",
   "metadata": {},
   "outputs": [],
   "source": [
    "_ = ok.grade('q_p_gt_0')"
   ]
  },
  {
   "cell_type": "markdown",
   "id": "363a1388",
   "metadata": {},
   "source": [
    "The result you have just found is the one that interested Arbuthnot.  He\n",
    "reasoned that the result cannot be explained by chance variation, and backed\n",
    "this up with some calculations of probability.\n",
    "\n",
    "We can use *simulation* to see how likely this proportion is, by chance.\n",
    "\n",
    "Let us assume that we live in a world where the chance of a boy being born is\n",
    "equal to that of a girl, and that every boy and girl born, is christened.\n",
    "\n",
    "In that case, when we look at the number of christenings for males and females,\n",
    "we expect to see more girls than boys about half the time, and more boys than\n",
    "girls about half the time (with some rare ties).  Therefore, the chance that\n",
    "there will be more male births than female births is just a little bit less\n",
    "than 50%.  At a first pass, we can simulate the chances of getting\n",
    "more boys than girls in any one year, as a coin toss."
   ]
  },
  {
   "cell_type": "code",
   "execution_count": null,
   "id": "fc6d0bb5",
   "metadata": {},
   "outputs": [],
   "source": [
    "# Run this cell.\n",
    "# A coin toss (either 0 or 1)\n",
    "coin_toss = rng.choice([0, 1])\n",
    "coin_toss"
   ]
  },
  {
   "cell_type": "markdown",
   "id": "e8f135e2",
   "metadata": {},
   "source": [
    "Then simulating 82 years is the same as simulating 82 coin tosses:"
   ]
  },
  {
   "cell_type": "code",
   "execution_count": null,
   "id": "ab3197c3",
   "metadata": {},
   "outputs": [],
   "source": [
    "# Run this cell.\n",
    "# 82 coin tosses (either 0 or 1)\n",
    "coin_tosses = rng.choice([0, 1], size=82)\n",
    "coin_tosses"
   ]
  },
  {
   "cell_type": "markdown",
   "id": "2dc1df9c",
   "metadata": {},
   "source": [
    "The proportion of heads is:"
   ]
  },
  {
   "cell_type": "code",
   "execution_count": null,
   "id": "6146f7e2",
   "metadata": {},
   "outputs": [],
   "source": [
    "# Run this cell.\n",
    "p_heads = np.count_nonzero(coin_tosses) / 82\n",
    "p_heads"
   ]
  },
  {
   "cell_type": "markdown",
   "id": "9ff009cc",
   "metadata": {},
   "source": [
    "Now the simulation.   The code above does one single trial of the simulation,\n",
    "where one trial simulates 82 years.  Now do 10000 simulations where each of the\n",
    "10000 trials simulates 82 years.   For each trial calculate the proportion of\n",
    "heads, and store the proportion in a 10000 element array called `proportions`.\n",
    "\n",
    "Look at [leaping ahead](https://lisds.github.io/textbook/arrays/leaping_ahead) for\n",
    "inspiration."
   ]
  },
  {
   "cell_type": "code",
   "execution_count": null,
   "id": "a229e944",
   "metadata": {},
   "outputs": [],
   "source": [
    "proportions = np.zeros(10000)\n",
    "for ...\n",
    "    #- The loop code.\n",
    "    ...\n",
    "\n",
    "# Show the first 10 proportions\n",
    "proportions[:10]"
   ]
  },
  {
   "cell_type": "markdown",
   "id": "da52af33",
   "metadata": {},
   "source": [
    "Test your answer."
   ]
  },
  {
   "cell_type": "code",
   "execution_count": null,
   "id": "7e33a45c",
   "metadata": {},
   "outputs": [],
   "source": [
    "_ = ok.grade('q_2_proportions')"
   ]
  },
  {
   "cell_type": "markdown",
   "id": "7c60aa71",
   "metadata": {},
   "source": [
    "Calculate the *proportion* of the 10000 `proportions` numbers that are greater\n",
    "than, or equal to, `p_gt_0` (the value you calculated above).  Store this\n",
    "proportion in `p_props_greater`."
   ]
  },
  {
   "cell_type": "code",
   "execution_count": null,
   "id": "d30db22b",
   "metadata": {},
   "outputs": [],
   "source": [
    "p_props_greater = ...\n",
    "\n",
    "# Show the value\n",
    "p_props_greater"
   ]
  },
  {
   "cell_type": "markdown",
   "id": "49d74ba3",
   "metadata": {},
   "source": [
    "Test your answer:"
   ]
  },
  {
   "cell_type": "code",
   "execution_count": null,
   "id": "2ff9cfe7",
   "metadata": {},
   "outputs": [],
   "source": [
    "_ = ok.grade('q_p_props_greater')"
   ]
  },
  {
   "cell_type": "markdown",
   "id": "abeef33d",
   "metadata": {},
   "source": [
    "You will probably conclude, with Arbuthnot, that these christening numbers are\n",
    "extremely unlikely, if there really is an equal chance of there being more\n",
    "girls than boys, or more boys than girls, in any one year."
   ]
  },
  {
   "cell_type": "markdown",
   "id": "71a85ef9",
   "metadata": {},
   "source": [
    "Did Arbuthnot really need 82 years' worth of data?\n",
    "\n",
    "Could he have made do with the values from 1629?\n",
    "\n",
    "These were:"
   ]
  },
  {
   "cell_type": "code",
   "execution_count": null,
   "id": "cbb0cd80",
   "metadata": {},
   "outputs": [],
   "source": [
    "# Run this cell.\n",
    "males_1629 = male_christenings[0]\n",
    "females_1629 = female_christenings[0]\n",
    "total_1629 = males_1629 + females_1629\n",
    "print('Male christenings in 1629:', males_1629)\n",
    "print('Total christenings in 1629:', total_1629)"
   ]
  },
  {
   "cell_type": "markdown",
   "id": "c64d3863",
   "metadata": {},
   "source": [
    "Let us assume a model world where there is an equal chance of a male or a\n",
    "female birth, and christening.  There is a year in that world with 9901 births.\n",
    "In that model world, in that year, what is the chance that there will be 5218\n",
    "or more male christenings?  (Remember, we found earlier, that there were 535\n",
    "more males than females).\n",
    "\n",
    "Here is a simulation of one year of that model world:"
   ]
  },
  {
   "cell_type": "code",
   "execution_count": null,
   "id": "22a52bbd",
   "metadata": {},
   "outputs": [],
   "source": [
    "# Run this cell.\n",
    "# One trial in a simulation of the ideal world.\n",
    "# Toss a coin for each of the 9901 christenings, 0=female, 1=male.\n",
    "one_year = rng.choice([0, 1], size=total_1629)\n",
    "# Count the number of males.\n",
    "n_males = np.count_nonzero(one_year)\n",
    "# Show the value\n",
    "n_males"
   ]
  },
  {
   "cell_type": "markdown",
   "id": "bda77c3e",
   "metadata": {},
   "source": [
    "Now you know how to do one trial, write a for loop to do 10000 trials like this one.  Store the result of each trial in an array `male_counts`."
   ]
  },
  {
   "cell_type": "code",
   "execution_count": null,
   "id": "c8001280",
   "metadata": {},
   "outputs": [],
   "source": [
    "male_counts = ...\n",
    "for ...\n",
    "    ...\n",
    "\n",
    "# Show the first 10 values\n",
    "male_counts[:10]"
   ]
  },
  {
   "cell_type": "markdown",
   "id": "c10c4184",
   "metadata": {},
   "source": [
    "Test your answer:"
   ]
  },
  {
   "cell_type": "code",
   "execution_count": null,
   "id": "dfe8c930",
   "metadata": {},
   "outputs": [],
   "source": [
    "_ = ok.grade('q_2_male_counts')"
   ]
  },
  {
   "cell_type": "markdown",
   "id": "ac1390fd",
   "metadata": {},
   "source": [
    "Find the proportion of these trials that gave a value for the number of males\n",
    "that is greater than or equal to the 1629 value of 5218."
   ]
  },
  {
   "cell_type": "code",
   "execution_count": null,
   "id": "bc65991e",
   "metadata": {},
   "outputs": [],
   "source": [
    "#- Proportion of \"male_counts\" values greater or equal to 5218.\n",
    "p_males_gte = ...\n",
    "\n",
    "# Show the value\n",
    "p_males_gte"
   ]
  },
  {
   "cell_type": "markdown",
   "id": "d0df9fb6",
   "metadata": {},
   "source": [
    "Test your answer:"
   ]
  },
  {
   "cell_type": "code",
   "execution_count": null,
   "id": "ae08abab",
   "metadata": {},
   "outputs": [],
   "source": [
    "_ = ok.grade('q_p_males_gte')"
   ]
  },
  {
   "cell_type": "markdown",
   "id": "265fa21e",
   "metadata": {},
   "source": [
    "Based on the evidence above, how likely is it that the observed number of\n",
    "males, 5218 out of 9901, came from a random sample from this ideal model of the\n",
    "world, where there is an equal chance of a male or female christening?\n",
    "\n",
    "Assign either 1, 2, 3, 4, or 5 to the name `likely_outcome_from_ideal` below.\n",
    "\n",
    "1. Reasonably likely.\n",
    "2. Fairly unlikely, but not unlikely enough to be surprising.\n",
    "3. Unlikely, but we still cannot be confident the model is incorrect.\n",
    "4. Highly unlikely, we have strong evidence the model is incorrect.\n",
    "5. The observed result is logically impossible given the model of equal chances\n",
    "   of male and female."
   ]
  },
  {
   "cell_type": "code",
   "execution_count": null,
   "id": "15e5cbe5",
   "metadata": {},
   "outputs": [],
   "source": [
    "likely_outcome_from_ideal = ..."
   ]
  },
  {
   "cell_type": "markdown",
   "id": "d52a487c",
   "metadata": {},
   "source": [
    "The next cell checks that your answer above is in the correct format. This\n",
    "test *does not* check that you answered correctly; only that you assigned a\n",
    "number successfully in the multiple-choice answer cell."
   ]
  },
  {
   "cell_type": "code",
   "execution_count": null,
   "id": "e895f4fb",
   "metadata": {},
   "outputs": [],
   "source": [
    "_ = ok.grade('q_outcome_ideal')"
   ]
  },
  {
   "cell_type": "markdown",
   "id": "e928f6ce",
   "metadata": {},
   "source": [
    "Finally, we might be interested to find the ratio of male births to all births.\n",
    "\n",
    "In the UK, currently, the [proportion of boys born in the\n",
    "UK](https://www.gov.uk/government/statistics/gender-ratios-at-birth-in-great-britain-2010-to-2014)\n",
    "is 0.513.\n",
    "\n",
    "What was the equivalent value in Arbuthnot's data?  That is, what is the ratio\n",
    "of male births to all births, over all 82 years of Arbuthnot's data?"
   ]
  },
  {
   "cell_type": "code",
   "execution_count": null,
   "id": "d42f81f4",
   "metadata": {},
   "outputs": [],
   "source": [
    "m_to_all_ratio = ...\n",
    "# Show the value\n",
    "m_to_all_ratio"
   ]
  },
  {
   "cell_type": "code",
   "execution_count": null,
   "id": "139afd3e",
   "metadata": {},
   "outputs": [],
   "source": [
    "_ = ok.grade('q_m_to_all_ratio')"
   ]
  },
  {
   "cell_type": "markdown",
   "id": "6bd53908",
   "metadata": {},
   "source": [
    "## Money and death\n",
    "\n",
    "\n",
    "\n",
    "We return to the death penalty.\n",
    "\n",
    "In this case, we are going to analyze whether people with higher incomes are\n",
    "more likely to favor the death penalty.\n",
    "\n",
    "To do this, we are going to analyze the results from a sample of the US\n",
    "[General Social Survey](http://www.gss.norc.org) from 2002.\n",
    "\n",
    "Make sure you have the data file [GSS2002.csv](https://lisds.github.io/textbook/data/GSS2002.csv) in the same directory as this notebook.  This should be\n",
    "true if you opened this page from a JupyterHub system.\n",
    "\n",
    "First we will get the information we need from the data file, using Pandas."
   ]
  },
  {
   "cell_type": "code",
   "execution_count": null,
   "id": "2ab428fd",
   "metadata": {},
   "outputs": [],
   "source": [
    "# Just run this cell\n",
    "# Read the data into a data frame.\n",
    "gss = pd.read_csv('GSS2002.csv')\n",
    "# Select columns of interest.\n",
    "money_death = gss.loc[:, ['Income', 'DeathPenalty']].dropna()\n",
    "# Recode income from strings to numbers\n",
    "\n",
    "def recode_income(value):\n",
    "    if value == 'under 1000':\n",
    "        return 500\n",
    "    low_str, high_str = value.split('-')\n",
    "    low, high = int(low_str), int(high_str)\n",
    "    return np.mean([low, high])\n",
    "\n",
    "# Recode income and make it into an array.\n",
    "income = np.array(money_death['Income'].apply(recode_income))\n",
    "death = money_death['DeathPenalty']\n",
    "# Income values for people who favor the death penalty.\n",
    "favor_income = income[death == 'Favor']\n",
    "oppose_income = income[death == 'Oppose']"
   ]
  },
  {
   "cell_type": "code",
   "execution_count": null,
   "id": "9b0a350a",
   "metadata": {},
   "outputs": [],
   "source": [
    "# Show the first 10 values for income in the \"Favor\" group\n",
    "favor_income[:10]"
   ]
  },
  {
   "cell_type": "code",
   "execution_count": null,
   "id": "8f741a82",
   "metadata": {},
   "outputs": [],
   "source": [
    "# Show the first 10 values for income in the \"Oppose\" group\n",
    "oppose_income[:10]"
   ]
  },
  {
   "cell_type": "markdown",
   "id": "7ad10f7f",
   "metadata": {},
   "source": [
    "Calculate the difference in mean income between the groups.  This is the\n",
    "difference we observe."
   ]
  },
  {
   "cell_type": "code",
   "execution_count": null,
   "id": "b596b197",
   "metadata": {},
   "outputs": [],
   "source": [
    "actual_diff = ...\n",
    "actual_diff"
   ]
  },
  {
   "cell_type": "code",
   "execution_count": null,
   "id": "2381b1c0",
   "metadata": {},
   "outputs": [],
   "source": [
    "_ = ok.grade('q_8_actual_diff')"
   ]
  },
  {
   "cell_type": "markdown",
   "id": "ccacf726",
   "metadata": {},
   "source": [
    "We want to know whether this difference in income is compatible with random\n",
    "sampling. That is, we want to know whether a difference this large is\n",
    "plausible, if the incomes are in fact random samples from the same\n",
    "population.\n",
    "\n",
    "To estimate how variable the mean differences can be, for such random\n",
    "sampling, we simulate this sampling by pooling the income values that we\n",
    "have, from the two groups, and the permuting them.\n",
    "\n",
    "First, we get the number of respondents in favor of the death penalty."
   ]
  },
  {
   "cell_type": "code",
   "execution_count": null,
   "id": "ca62972b",
   "metadata": {},
   "outputs": [],
   "source": [
    "n_favor = ...\n",
    "n_favor"
   ]
  },
  {
   "cell_type": "code",
   "execution_count": null,
   "id": "7be62ba6",
   "metadata": {},
   "outputs": [],
   "source": [
    "_ = ok.grade('q_9_n_favor')"
   ]
  },
  {
   "cell_type": "markdown",
   "id": "43945366",
   "metadata": {},
   "source": [
    "Then we pool the income values for the in-favor and oppose groups."
   ]
  },
  {
   "cell_type": "code",
   "execution_count": null,
   "id": "3cf5ed1e",
   "metadata": {},
   "outputs": [],
   "source": [
    "# Concatenate the in-favor and opposed incomes.\n",
    "pooled = np.concatenate([favor_income, oppose_income])\n",
    "# Show the first 10 values before shuffling.\n",
    "pooled[:10]"
   ]
  },
  {
   "cell_type": "markdown",
   "id": "89c30401",
   "metadata": {},
   "source": [
    "To do the random sampling we permute the values, so the `pooled` vector is a\n",
    "random mixture of the two groups."
   ]
  },
  {
   "cell_type": "code",
   "execution_count": null,
   "id": "d694866b",
   "metadata": {},
   "outputs": [],
   "source": [
    "shuffled = rng.permutation(pooled)\n",
    "# Show the first 10 values after shuffling.\n",
    "shuffled[:10]"
   ]
  },
  {
   "cell_type": "markdown",
   "id": "d69f3ef1",
   "metadata": {},
   "source": [
    "Treat the first `n_favor` observations from this shuffled vector as our\n",
    "simulated in-favor group.  The rest are our simulated oppose\n",
    "group."
   ]
  },
  {
   "cell_type": "code",
   "execution_count": null,
   "id": "4f526c2c",
   "metadata": {},
   "outputs": [],
   "source": [
    "fake_favor = shuffled[:n_favor]\n",
    "fake_oppose = shuffled[n_favor:]"
   ]
  },
  {
   "cell_type": "markdown",
   "id": "ad94572a",
   "metadata": {},
   "source": [
    "Calculate the difference in means for this simulation."
   ]
  },
  {
   "cell_type": "code",
   "execution_count": null,
   "id": "43a83096",
   "metadata": {},
   "outputs": [],
   "source": [
    "fake_diff = np.mean(fake_favor) - np.mean(fake_oppose)\n",
    "fake_diff"
   ]
  },
  {
   "cell_type": "markdown",
   "id": "f637f4e6",
   "metadata": {},
   "source": [
    "Now it is your turn.   Do this simulation 10000 times, to build up the\n",
    "distribution of differences compatible with random sampling."
   ]
  },
  {
   "cell_type": "code",
   "execution_count": null,
   "id": "74c52577",
   "metadata": {},
   "outputs": [],
   "source": [
    "fake_differences = ...\n",
    "for i in np.arange(10000):\n",
    "    #- Permute the pooled incomes\n",
    "    shuffled = rng.permutation(pooled)\n",
    "    #- Make a fake favor sample\n",
    "   fake_favor = ...\n",
    "    #- Make a fake opposed sample\n",
    "   fake_oppose = ...\n",
    "    #- Calculate the mean difference for the fake samples\n",
    "   fake_diff = ...\n",
    "    #- Put the mean difference into the fake_differences array.\n",
    "   fake_differences...\n",
    "# Show the first 10 fake differences\n",
    "fake_differences[:10]"
   ]
  },
  {
   "cell_type": "code",
   "execution_count": null,
   "id": "8066c995",
   "metadata": {},
   "outputs": [],
   "source": [
    "_ = ok.grade('q_10_fake_differences')"
   ]
  },
  {
   "cell_type": "markdown",
   "id": "e2c9a2a0",
   "metadata": {},
   "source": [
    "When you have that working, do a histogram of the differences."
   ]
  },
  {
   "cell_type": "code",
   "execution_count": null,
   "id": "412c57aa",
   "metadata": {},
   "outputs": [],
   "source": [
    "plt.hist(fake_differences);"
   ]
  },
  {
   "cell_type": "markdown",
   "id": "ecb0e7f5",
   "metadata": {},
   "source": [
    "You can get an idea of where the actual difference we saw sits on this\n",
    "histogram, and therefore how likely that difference is, assuming the incomes\n",
    "come from the same underlying population of incomes.\n",
    "\n",
    "To be more specific, show the proportion of the differences you calculated that\n",
    "were greater than or equal to the actual difference."
   ]
  },
  {
   "cell_type": "code",
   "execution_count": null,
   "id": "42379439",
   "metadata": {},
   "outputs": [],
   "source": [
    "p_fake_ge_actual = ...\n",
    "p_fake_ge_actual"
   ]
  },
  {
   "cell_type": "code",
   "execution_count": null,
   "id": "74e2781e",
   "metadata": {},
   "outputs": [],
   "source": [
    "_ = ok.grade('q_11_p_fake_ge_actual')"
   ]
  },
  {
   "cell_type": "markdown",
   "id": "4d90c24e",
   "metadata": {},
   "source": [
    "This proportion gives an estimate of the probability of seeing a difference\n",
    "this large, if the incomes all come from the same underlying population."
   ]
  },
  {
   "cell_type": "markdown",
   "id": "a492aa8f",
   "metadata": {},
   "source": [
    "## Done"
   ]
  },
  {
   "cell_type": "code",
   "execution_count": null,
   "id": "f06c0a14",
   "metadata": {},
   "outputs": [],
   "source": [
    "# For your convenience, you can run this cell to run all the tests at once!\n",
    "import os\n",
    "_ = [ok.grade(q[:-3]) for q in os.listdir(\"tests\") if q.startswith('q')]"
   ]
  }
 ],
 "metadata": {
  "jupytext": {
   "notebook_metadata_filter": "all,-language_info",
   "split_at_heading": true,
   "text_representation": {
    "extension": ".Rmd",
    "format_name": "rmarkdown",
    "format_version": "1.2",
    "jupytext_version": "1.16.0"
   }
  },
  "kernelspec": {
   "display_name": "Python 3 (ipykernel)",
   "language": "python",
   "name": "python3"
  }
 },
 "nbformat": 4,
 "nbformat_minor": 5
}
